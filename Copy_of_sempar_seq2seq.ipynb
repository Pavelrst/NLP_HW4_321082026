{
  "nbformat": 4,
  "nbformat_minor": 0,
  "metadata": {
    "colab": {
      "name": "Copy of sempar_seq2seq.ipynb",
      "provenance": [],
      "collapsed_sections": []
    },
    "kernelspec": {
      "name": "python3",
      "display_name": "Python 3"
    },
    "accelerator": "GPU"
  },
  "cells": [
    {
      "cell_type": "markdown",
      "metadata": {
        "id": "vWgkabpzFCkQ"
      },
      "source": [
        "# Semantic Parsing with Sequence to Sequence Models"
      ]
    },
    {
      "cell_type": "markdown",
      "metadata": {
        "id": "K2ez_GsjFPse"
      },
      "source": [
        "In this assignment we will use sequence to sequence (seq2seq) models to tackle a semantic parsing dataset. We will implement increasingly complex models and observe their increasingly better performance.\n"
      ]
    },
    {
      "cell_type": "markdown",
      "metadata": {
        "id": "BPyq3FF4Bmkm"
      },
      "source": [
        "To begin copy this notebook to your own drive:\n",
        "\n",
        "![image.png](data:image/png;base64,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)\n",
        "\n",
        "### Submission Instructions:\n",
        "1. **Download the notebook** (in the menubar, select File$\\rightarrow$Download .ipynb)\n",
        "2. **Upload the downloaded notebook (.ipynb file) to your repository**.\n",
        "\n",
        "Make sure you fill in any place that says `YOUR CODE HERE`, and that no tests fail.  "
      ]
    },
    {
      "cell_type": "markdown",
      "metadata": {
        "id": "-1xUCYzadwwN"
      },
      "source": [
        "## Dataset\n",
        "We will use the geoqueries880 dataset. The original dataset can be found [here](https://www.cs.utexas.edu/users/ml/nldata/geoquery.html), but we will use the version from Data Recombination for Neural Semantic Parsing [(Jia & Liang, 2016)](https://stanford.edu/~robinjia/pdf/jia2016recombination.pdf).\n",
        "As a semantic parsing dataset, geo880 maps natural language sentences to their 'logical form', which in our case is a query string to be fed to a database.\n",
        "\n",
        "### Sample training example\n",
        "natural language sentence:  \n",
        "`what states border kentucky ?`  \n",
        "logical form (query string):  \n",
        "`_answer ( A , ( _state ( A ) , _next_to ( A , B ) , _const ( B , _stateid ( kentucky ) ) ) )`\n",
        "\n",
        "The result of feeding the query string into the database is called the \"execution\". For example, the execution of the above query string could be:  \n",
        "`indiana, ohio, west viginia, virginia, tennessee, missouri, illinois`\n",
        "\n",
        "Recall from class that mapping between natural sentences and executions (as opposed to logical forms) is known as \"weak supervision\" (or \"light supervision\"). For simplicity, we will ignore the execution part, and map between natural sentences and query strings, as in our version of geo880. This is known as \"strong supervision\" (or, as referred to in the lecture slides, \"heavy supervision\")."
      ]
    },
    {
      "cell_type": "markdown",
      "metadata": {
        "id": "adGQ1PzqvPQV"
      },
      "source": [
        "## Initial Setup"
      ]
    },
    {
      "cell_type": "code",
      "metadata": {
        "id": "0TPE10PivHqf"
      },
      "source": [
        "from collections import Counter\n",
        "import math\n",
        "import os\n",
        "import random\n",
        "import time\n",
        "\n",
        "import matplotlib.pyplot as plt\n",
        "import numpy as np\n",
        "\n",
        "import torch\n",
        "import torch.nn as nn\n",
        "from torch import optim\n",
        "import torch.nn.functional as F\n",
        "\n",
        "device = torch.device(\"cuda\" if torch.cuda.is_available() else \"cpu\")"
      ],
      "execution_count": 1,
      "outputs": []
    },
    {
      "cell_type": "code",
      "metadata": {
        "id": "1LOAwYWCvz1Q"
      },
      "source": [
        "# For reproducibility\n",
        "def set_random_seeds():\n",
        "    torch.manual_seed(1407)\n",
        "    random.seed(1411)\n",
        "    np.random.seed(1710)"
      ],
      "execution_count": 2,
      "outputs": []
    },
    {
      "cell_type": "markdown",
      "metadata": {
        "id": "O9g21lLptynw"
      },
      "source": [
        "## Preprocessing\n",
        "Before implementing the seq2seq models, we first need to prepare our data. We have already implemented utilities for this end, albeit simple ones."
      ]
    },
    {
      "cell_type": "markdown",
      "metadata": {
        "id": "dUY-bpNayaWQ"
      },
      "source": [
        "### Helper utilities"
      ]
    },
    {
      "cell_type": "code",
      "metadata": {
        "id": "fCqotH_vuDXU"
      },
      "source": [
        "SOS_IDX = 0\n",
        "SOS_STR = '<SOS>'\n",
        "EOS_IDX = 1\n",
        "EOS_STR = '<EOS>'\n",
        "UNK_IDX = 2\n",
        "UNK_STR = '<UNK>'\n",
        "\n",
        "class Vocab:\n",
        "    def __init__(self, sentences, name, unk_threshold=1):\n",
        "        self.name = name\n",
        "        self.unk_threshold = unk_threshold\n",
        "\n",
        "        self.word_counts = Counter()\n",
        "        self.i2t = {SOS_IDX: SOS_STR, EOS_IDX: EOS_STR, UNK_IDX: UNK_STR}\n",
        "        self.t2i = None\n",
        "        self._parallel_index_mapping = None\n",
        "\n",
        "        self._count_words(sentences)\n",
        "        self._create_token_mappings()\n",
        "\n",
        "    def _count_words(self, sentences):\n",
        "        for sentence in sentences:\n",
        "            self.word_counts.update(sentence.split(' '))\n",
        "\n",
        "    def _create_token_mappings(self):\n",
        "        n_fixed_tokens = len(self.i2t)\n",
        "        words_above_threshold = [word for word, count in self.word_counts.items()\n",
        "                                 if count > self.unk_threshold]\n",
        "        self.i2t.update(enumerate(words_above_threshold, start=n_fixed_tokens))\n",
        "        self.t2i = {index: token for token, index in self.i2t.items()}\n",
        "        self.n_tokens = len(self.t2i)\n",
        "\n",
        "    def set_parallel_vocab(self, other_vocab):  # only relevant for the copying model\n",
        "\n",
        "        parallel_index_mapping = {}\n",
        "        for other_token in other_vocab.t2i:\n",
        "            if other_token in self.t2i:\n",
        "                parallel_index_mapping[other_vocab.t2i[other_token]] = self.t2i[other_token]\n",
        "        self._parallel_index_mapping = parallel_index_mapping\n",
        "\n",
        "    def get_index_from_parallel_index(self, parallel_index):  # for use with the copying model\n",
        "        \"\"\"\n",
        "        given an index `parallel_index` from a another vocab, returns the this vocab's index of the\n",
        "        corresponding token.\n",
        "\n",
        "        For example, if vocab_logical has the token 'kentucky' mapped to index 10, and vocab_natural\n",
        "        has the token kentucky mapped to index 20, then if self=vocab_logical, we get\n",
        "        get_index_from_parallel_index(20) returns 10.\n",
        "\n",
        "        This method should only be used after a call to set_parallel_vocab was\n",
        "        previously made.\n",
        "        \"\"\"\n",
        "        return self._parallel_index_mapping.get(parallel_index, UNK_IDX)\n",
        "\n",
        "    def sentence_to_tensor(self, sentence):\n",
        "        words = sentence.split(' ')\n",
        "        indices = [self.t2i.get(word, self.t2i[UNK_STR]) for word in words]\n",
        "        indices.append(self.t2i[EOS_STR])\n",
        "        return torch.tensor(indices, dtype=torch.long, device=device).view(-1, 1)"
      ],
      "execution_count": 3,
      "outputs": []
    },
    {
      "cell_type": "code",
      "metadata": {
        "id": "LBJ7fXIuyRLy"
      },
      "source": [
        "def _load_sentence_pairs(path):\n",
        "    with open(path) as f:\n",
        "        lines = f.read().strip().split('\\n')\n",
        "    pairs = [[s for s in l.split('\\t')] for l in lines]\n",
        "    return pairs\n",
        "\n",
        "\n",
        "def _create_vocabs(pairs, unk_threshold=1):\n",
        "    print(\"Creating vocabularies...\")\n",
        "    natural_sentences, logical_sentences = zip(*pairs)\n",
        "\n",
        "    vocab_natural = Vocab(natural_sentences, 'natural', unk_threshold)\n",
        "    vocab_logical = Vocab(logical_sentences, 'logical', unk_threshold)\n",
        "\n",
        "    print(f'# natural tokens: {vocab_natural.n_tokens}')\n",
        "    print(f'# logical tokens: {vocab_logical.n_tokens}')\n",
        "\n",
        "    return vocab_natural, vocab_logical\n",
        "\n",
        "\n",
        "def load_data(train_path, dev_path):\n",
        "    train_sentences = _load_sentence_pairs(train_path)\n",
        "\n",
        "    vocab_natural, vocab_logical = _create_vocabs(train_sentences)\n",
        "\n",
        "    dev_sentences = _load_sentence_pairs(dev_path)\n",
        "\n",
        "    return train_sentences, dev_sentences, vocab_natural, vocab_logical"
      ],
      "execution_count": 4,
      "outputs": []
    },
    {
      "cell_type": "markdown",
      "metadata": {
        "id": "j9IjiiqzxfdK"
      },
      "source": [
        "### Loading the data"
      ]
    },
    {
      "cell_type": "code",
      "metadata": {
        "id": "XqyAaJUHyqsf",
        "colab": {
          "base_uri": "https://localhost:8080/"
        },
        "outputId": "8dcc8cd8-8fda-4130-c128-93e2c25dbe46"
      },
      "source": [
        "!wget https://raw.githubusercontent.com/tau-nlp-course/NLP_HW4/master/data/geo880_dev100.tsv\n",
        "!wget https://raw.githubusercontent.com/tau-nlp-course/NLP_HW4/master/data/geo880_train500.tsv\n",
        "ROOT_DIR = '/content/'\n",
        "TRAIN_SET_PATH = os.path.join(ROOT_DIR, \"geo880_train500.tsv\")\n",
        "DEV_SET_PATH = os.path.join(ROOT_DIR, \"geo880_dev100.tsv\")\n",
        "\n",
        "\n",
        "train_sentences, dev_sentences, vocab_natural, vocab_logical = load_data(TRAIN_SET_PATH, DEV_SET_PATH)"
      ],
      "execution_count": 5,
      "outputs": [
        {
          "output_type": "stream",
          "text": [
            "--2021-01-27 06:26:40--  https://raw.githubusercontent.com/tau-nlp-course/NLP_HW4/master/data/geo880_dev100.tsv\n",
            "Resolving raw.githubusercontent.com (raw.githubusercontent.com)... 151.101.0.133, 151.101.64.133, 151.101.128.133, ...\n",
            "Connecting to raw.githubusercontent.com (raw.githubusercontent.com)|151.101.0.133|:443... connected.\n",
            "HTTP request sent, awaiting response... 200 OK\n",
            "Length: 14596 (14K) [text/plain]\n",
            "Saving to: ‘geo880_dev100.tsv.8’\n",
            "\n",
            "\rgeo880_dev100.tsv.8   0%[                    ]       0  --.-KB/s               \rgeo880_dev100.tsv.8 100%[===================>]  14.25K  --.-KB/s    in 0s      \n",
            "\n",
            "2021-01-27 06:26:40 (135 MB/s) - ‘geo880_dev100.tsv.8’ saved [14596/14596]\n",
            "\n",
            "--2021-01-27 06:26:40--  https://raw.githubusercontent.com/tau-nlp-course/NLP_HW4/master/data/geo880_train500.tsv\n",
            "Resolving raw.githubusercontent.com (raw.githubusercontent.com)... 151.101.0.133, 151.101.64.133, 151.101.128.133, ...\n",
            "Connecting to raw.githubusercontent.com (raw.githubusercontent.com)|151.101.0.133|:443... connected.\n",
            "HTTP request sent, awaiting response... 200 OK\n",
            "Length: 72493 (71K) [text/plain]\n",
            "Saving to: ‘geo880_train500.tsv.8’\n",
            "\n",
            "geo880_train500.tsv 100%[===================>]  70.79K  --.-KB/s    in 0.002s  \n",
            "\n",
            "2021-01-27 06:26:40 (35.7 MB/s) - ‘geo880_train500.tsv.8’ saved [72493/72493]\n",
            "\n",
            "Creating vocabularies...\n",
            "# natural tokens: 184\n",
            "# logical tokens: 118\n"
          ],
          "name": "stdout"
        }
      ]
    },
    {
      "cell_type": "markdown",
      "metadata": {
        "id": "sN7hrxpc3FnI"
      },
      "source": [
        "Below is a random example from `train_sentences` and `dev_sentences`:"
      ]
    },
    {
      "cell_type": "code",
      "metadata": {
        "id": "3DrUi1Xy3VxB",
        "colab": {
          "base_uri": "https://localhost:8080/"
        },
        "outputId": "863260e0-ca3b-4c43-a0fa-8eca79e3bcbe"
      },
      "source": [
        "print(f'training example:\\n{random.choice(train_sentences)}')\n",
        "print()\n",
        "print(f'dev example:\\n{random.choice(dev_sentences)}')"
      ],
      "execution_count": 6,
      "outputs": [
        {
          "output_type": "stream",
          "text": [
            "training example:\n",
            "['which states lie on the largest river in the united states ?', '_answer ( A , ( _state ( A ) , _traverse ( B , A ) , _largest ( B , ( _river ( B ) , _loc ( B , C ) , _const ( C , _countryid ( usa ) ) ) ) ) )']\n",
            "\n",
            "dev example:\n",
            "['what states border states that the mississippi runs through ?', '_answer ( A , ( _state ( A ) , _next_to ( A , B ) , _state ( B ) , _const ( C , _riverid ( mississippi ) ) , _traverse ( C , B ) ) )']\n"
          ],
          "name": "stdout"
        }
      ]
    },
    {
      "cell_type": "markdown",
      "metadata": {
        "id": "aF2GBWWX383G"
      },
      "source": [
        "As you can see, each example is a list of length 2 where the first element is a natural language sentence and the second element is its corresponding query string. In both sentences, all words are separated by a space.\n",
        "\n",
        "The `Vocab` objects, `vocab_natural` and `vocab_logical`, each represent a vocabulary of tokens from the corresponding 'natural language' and 'query string' domains. When creating the vocabularies, each word that occurrs less than 2 times (`unk_threshold=1`) in the training set is considered an unknown (`<UNK>`) token. Note that even though there are shared tokens between them, each vocabulary was created based on a single domain (natural/query)."
      ]
    },
    {
      "cell_type": "markdown",
      "metadata": {
        "id": "6TWsicCp6CvE"
      },
      "source": [
        "### 'Special' strings in the logical domain\n",
        "observe the query string from the following training example:"
      ]
    },
    {
      "cell_type": "code",
      "metadata": {
        "id": "PpqiDqdt6ZTl",
        "colab": {
          "base_uri": "https://localhost:8080/"
        },
        "outputId": "ff1d72ab-2c24-4767-943a-ac6a6d1061c2"
      },
      "source": [
        "print(train_sentences[24])"
      ],
      "execution_count": 7,
      "outputs": [
        {
          "output_type": "stream",
          "text": [
            "['what is the highest elevation in south carolina ?', \"_answer ( A , _highest ( A , ( _place ( A ) , _loc ( A , B ) , _const ( B , _stateid ( ' south carolina ' ) ) ) ) )\"]\n"
          ],
          "name": "stdout"
        }
      ]
    },
    {
      "cell_type": "markdown",
      "metadata": {
        "id": "BDSqdYPg6po8"
      },
      "source": [
        "Note that ` ' south carolina ' ` could be seen as a single logical token, just like `kentucky`. However, in our simple tokenization scheme, this word is tokenized into 4 different tokens: `'`, `south`, `carolina` and `'`. This hurts performance, but will probably make the implementation in later stages easier."
      ]
    },
    {
      "cell_type": "markdown",
      "metadata": {
        "id": "HAx86KpK8He8"
      },
      "source": [
        "## Simple Seq2seq Model\n",
        "In this part we will implement a simple encoder-decoder model, similar to v1.0 from class. In addition to the class slides, a good reference material for seq2seq models is [Jay Alammar](https://jalammar.github.io/visualizing-neural-machine-translation-mechanics-of-seq2seq-models-with-attention/). It contains helpful animations explaining our v1.0 seq2seq model, in addition to the v2.0 model (attention) that we will implement later."
      ]
    },
    {
      "cell_type": "markdown",
      "metadata": {
        "id": "4VqPq43H9Q9m"
      },
      "source": [
        "### Encoder\n",
        "Our encoder is very simple, using a [GRU](https://pytorch.org/docs/stable/nn.html#gru) to encode the natural language sentence. Note that the `input_size` parameter of the `GRU` is not the length of the input, but the dimension of the input vector at every timestep."
      ]
    },
    {
      "cell_type": "markdown",
      "metadata": {
        "id": "KMiHRC1D-u8N"
      },
      "source": [
        "### Question 1.1\n",
        "Implement the `forward` method of `EncoderRNN`.  \n",
        "To implement, just pass the embedded input through the GRU and return the output and the hidden state. You can use the class slides and Jay Alammar as a reference."
      ]
    },
    {
      "cell_type": "code",
      "metadata": {
        "id": "ZdkLejDn9f9n"
      },
      "source": [
        "class EncoderRNN(nn.Module):\n",
        "    def __init__(self, input_size, hidden_size, vocab):\n",
        "        super().__init__()\n",
        "        self.hidden_size = hidden_size\n",
        "        self.vocab = vocab\n",
        "\n",
        "        self.embedding = nn.Embedding(self.vocab.n_tokens, hidden_size)\n",
        "        self.gru = nn.GRU(input_size, hidden_size)\n",
        "\n",
        "    def forward(self, input, h_0):\n",
        "        ### YOUR CODE HERE\n",
        "        embeddings = self.embedding(input)\n",
        "        output, h_0 = self.gru(embeddings, h_0)\n",
        "        ### --------------\n",
        "        return output, h_0\n",
        "\n",
        "    def init_hidden(self):\n",
        "        return torch.zeros(1, 1, self.hidden_size, device=device)"
      ],
      "execution_count": 8,
      "outputs": []
    },
    {
      "cell_type": "markdown",
      "metadata": {
        "id": "Etlzvi8T_S8X"
      },
      "source": [
        "### Simple decoder\n",
        "Unlike the encoder, our decoder uses a [GRUCell](https://pytorch.org/docs/stable/nn.html#grucell) and not a GRU. This is because while decoding, we want to be able to control the input of the decoder in each timestep (e.g. [\"teacher forcing\"](https://towardsdatascience.com/what-is-teacher-forcing-3da6217fed1c)).  \n",
        "In addition, there are two additional parameter matrices in `DecoderSimple`.  \n",
        "The first is `W_p`, and is used to project the last hidden state of the encoder to the decoder space, as the their hidden dimensions are not necessarily equal (albeit in our case they _are_ equal).  \n",
        "The second is `W_s`, and is used as $W^{(s)}$ from class.  \n",
        "You can ignore the `uses_copying` attribute, as it will only be relevant in question 3."
      ]
    },
    {
      "cell_type": "markdown",
      "metadata": {
        "id": "UJI1_Fe1EZbR"
      },
      "source": [
        "### Question 1.2\n",
        "Implement the `forward` method of `DecoderSimple`.  \n",
        " You can use the class slides and Jay Alammar as a reference.  \n",
        "Don't forget to address the `evaluation_mode` parameter, as the input to `GRUCell` could depend on whether we are training or evaluating. It is your choice if and how to use teacher forcing during training, but at least some usage of teacher forcing is highly recommended."
      ]
    },
    {
      "cell_type": "code",
      "metadata": {
        "id": "HEnQtakP_euX"
      },
      "source": [
        "class DecoderSimple(nn.Module):\n",
        "    def __init__(self, input_size, hidden_size, vocab, **kwargs):\n",
        "        super().__init__()\n",
        "        self.input_size = input_size\n",
        "        self.hidden_size = hidden_size\n",
        "        self.vocab = vocab\n",
        "        self.output_size = self.vocab.n_tokens\n",
        "\n",
        "        self.uses_copying = False\n",
        "\n",
        "        self.embedding = nn.Embedding(self.output_size, self.hidden_size)\n",
        "\n",
        "        # for projecting the last hidden state of the encoder to the decoder space,\n",
        "        # as the first decoder hidden state, in case the two dimensions don't match\n",
        "        self.W_p = nn.Linear(enc_hidden_size, hidden_size)\n",
        "\n",
        "        self.gru_cell = nn.GRUCell(self.input_size, self.hidden_size)\n",
        "\n",
        "        # for output\n",
        "        self.W_s = nn.Linear(self.hidden_size, self.output_size)\n",
        "\n",
        "    def forward(self, targets, h, evaluation_mode=False, epoch=0, **kwargs):\n",
        "        ### YOUR CODE HERE\n",
        "        h_0 = self.W_p(h).view(1, -1)\n",
        "\n",
        "        if not evaluation_mode:\n",
        "          embeddings = self.embedding(targets)\n",
        "\n",
        "        outputs_list = []\n",
        "        next_index = -1\n",
        "        # have to iterate through calls to gru_cell (unlike nn.GRU)\n",
        "        for idx in range(targets.shape[0]):\n",
        "          \n",
        "          # when training, use teacher forcing with X% probability for K epochs\n",
        "          tf_prob = 0 if epoch == 0 else 0.2\n",
        "          tf_epochs = 10\n",
        "          use_teacher_forcing = (\n",
        "              (not evaluation_mode)\n",
        "              and epoch < tf_epochs\n",
        "              and (np.random.rand() < tf_prob)\n",
        "          )\n",
        "          \n",
        "          if len(outputs_list) == 0:\n",
        "            # always start with SOS\n",
        "            SOS_index_tensor = torch.tensor(SOS_IDX, device=device)\n",
        "            current_input = self.embedding(SOS_index_tensor[None, None])[0]\n",
        "          elif use_teacher_forcing:\n",
        "            current_input = embeddings[idx - 1]\n",
        "          else:\n",
        "            current_input = self.embedding(next_index[None])\n",
        "          \n",
        "          h_0 = self.gru_cell(current_input, h_0)\n",
        "          \n",
        "          current_output = self.W_s(h_0[None])[0]\n",
        "          \n",
        "          outputs_list.append(current_output)\n",
        "          # greedy decoding:\n",
        "          next_index = torch.argmax(outputs_list[-1][0])\n",
        "\n",
        "        outputs = torch.cat(outputs_list)\n",
        "\n",
        "        ### --------------\n",
        "        return outputs"
      ],
      "execution_count": 9,
      "outputs": []
    },
    {
      "cell_type": "markdown",
      "metadata": {
        "id": "AfhjamNaHPsc"
      },
      "source": [
        "## Training\n",
        "To simplify debugging, we always use a batch size of 1. Note that just as our simple tokenization scheme, using a batch size of 1 (where we could probably train all examples in one batch) will hurt performance.\n",
        "\n",
        "During training, we pass the tokenized natural sentence through the encoder, and pass the final encoder hidden state (as well as additional arguments in later, more complex, models) to the decoder. Then, we use the decoder output the calculate the loss with a `criterion`, and perform backpropagation.\n",
        "\n",
        "Until question 3, you can ignore the `if dec.uses_copying:` condition and assume it is always false. You will implement this part in question 3.2."
      ]
    },
    {
      "cell_type": "code",
      "metadata": {
        "id": "atqrArR2H6nF"
      },
      "source": [
        "def train_single_example(input_tensor, target_tensor, enc, dec,\n",
        "                         enc_optimizer, dec_optimizer, criterion, epoch=0):\n",
        "    encoder_hidden_first = enc.init_hidden()\n",
        "\n",
        "    enc_optimizer.zero_grad()\n",
        "    dec_optimizer.zero_grad()\n",
        "\n",
        "    input_length = input_tensor.size(0)\n",
        "    target_length = target_tensor.size(0)\n",
        "\n",
        "    encoder_outputs, encoder_h_m = enc(input_tensor, encoder_hidden_first)\n",
        "\n",
        "    decoder_hidden = encoder_h_m\n",
        "\n",
        "    decoder_outputs = dec(target_tensor, decoder_hidden, enc_input=input_tensor,\n",
        "                          enc_outputs=encoder_outputs, epoch=epoch)\n",
        "\n",
        "    if dec.uses_copying:\n",
        "        ### YOUR CODE HERE\n",
        "        raise NotImplementedError\n",
        "        ### --------------\n",
        "    else:\n",
        "        criterion_target = target_tensor.view(-1)\n",
        "\n",
        "    loss = criterion(decoder_outputs, criterion_target)\n",
        "\n",
        "    loss.backward()\n",
        "\n",
        "    enc_optimizer.step()\n",
        "    dec_optimizer.step()\n",
        "\n",
        "    return loss.item() / target_length"
      ],
      "execution_count": 10,
      "outputs": []
    },
    {
      "cell_type": "markdown",
      "metadata": {
        "id": "HamkvLCsKqdj"
      },
      "source": [
        "After each epoch, we can save the current model in the `parameters/` directory using the `save` parameter in `train`.\n"
      ]
    },
    {
      "cell_type": "code",
      "metadata": {
        "id": "Y-ZV0QnrLszy"
      },
      "source": [
        "!mkdir -p /content/parameters\n",
        "PARAMETERS_DIR = os.path.join(ROOT_DIR, 'parameters')\n",
        "\n",
        "def save_model(enc, dec, epoch, postfix=''):\n",
        "    torch.save(enc, os.path.join(PARAMETERS_DIR, f'enc_{epoch}{postfix}.pt'))\n",
        "    torch.save(dec, os.path.join(PARAMETERS_DIR, f'dec_{epoch}{postfix}.pt'))"
      ],
      "execution_count": 11,
      "outputs": []
    },
    {
      "cell_type": "markdown",
      "metadata": {
        "id": "fOE1H2D_T-dI"
      },
      "source": [
        "Simple utility functions for printing the status of the training:"
      ]
    },
    {
      "cell_type": "code",
      "metadata": {
        "id": "Cw_E25wPT8UM"
      },
      "source": [
        "def asMinutes(s):\n",
        "    m = math.floor(s / 60)\n",
        "    s -= m * 60\n",
        "    return '%dm %ds' % (m, s)\n",
        "\n",
        "\n",
        "def timeSince(since, percent):\n",
        "    now = time.time()\n",
        "    s = now - since\n",
        "    es = s / percent\n",
        "    rs = es - s\n",
        "    return '%s (%s)' % (asMinutes(s), asMinutes(rs))"
      ],
      "execution_count": 12,
      "outputs": []
    },
    {
      "cell_type": "markdown",
      "metadata": {
        "id": "CiLIJtWSMBYc"
      },
      "source": [
        "When training, we can use the `patience` parameter to stop the training if our results on the dev set didn't improve for `patience` number of epoch. The default, -1, means training for `n_epochs` regardless of the results."
      ]
    },
    {
      "cell_type": "code",
      "metadata": {
        "id": "QrTor1PDKqsA"
      },
      "source": [
        "def train(n_epochs, train_set, dev_set, enc, dec, criterion,\n",
        "          patience=-1, save=True, print_sentences=False):\n",
        "    start = time.time()\n",
        "\n",
        "    train_accuracies = []\n",
        "    losses = []\n",
        "    epoch_loss = 0  # Reset every epoch\n",
        "\n",
        "    dev_accuracies = []\n",
        "    best_dev_accuracy = 0\n",
        "    epochs_without_improvement = 0  # for early stopping (patience)\n",
        "\n",
        "    encoder_optimizer = optim.Adam(enc.parameters())\n",
        "    decoder_optimizer = optim.Adam(dec.parameters())\n",
        "\n",
        "    for epoch in range(1, n_epochs + 1):\n",
        "        random.shuffle(train_set)\n",
        "\n",
        "        for natural_string, logical_string in train_set:\n",
        "            input_tensor = enc.vocab.sentence_to_tensor(natural_string)\n",
        "            target_tensor = dec.vocab.sentence_to_tensor(logical_string)\n",
        "\n",
        "            loss = train_single_example(input_tensor, target_tensor, enc, dec,\n",
        "                                        encoder_optimizer, decoder_optimizer, criterion, epoch=epoch)\n",
        "            epoch_loss += loss\n",
        "\n",
        "        average_loss = epoch_loss / len(train_set)\n",
        "        losses.append(average_loss)\n",
        "        epoch_loss = 0\n",
        "\n",
        "        train_accuracy = evaluate(train_set, enc, dec, print_sentences)\n",
        "        train_accuracies.append(train_accuracy)\n",
        "\n",
        "        dev_accuracy = evaluate(dev_set, enc, dec, print_sentences)\n",
        "        dev_accuracies.append(dev_accuracy)\n",
        "\n",
        "        print(f'Epoch #{epoch}:\\n'\n",
        "              f'Loss: {average_loss:.4f}\\n'\n",
        "              f'Train accuracy: {train_accuracy:.3f}\\n'\n",
        "              f'Dev accuracy: {dev_accuracy:.3f}\\n'\n",
        "              f'Time elapsed (remaining): {timeSince(start, epoch / n_epochs)}')\n",
        "\n",
        "        if save:\n",
        "            save_model(enc, dec, epoch)\n",
        "\n",
        "        if dev_accuracy > best_dev_accuracy:\n",
        "            best_dev_accuracy = dev_accuracy\n",
        "        else:\n",
        "            epochs_without_improvement += 1\n",
        "            if epochs_without_improvement == patience:\n",
        "                print(f'Training didn\\'t improve for {patience} epochs\\n'\n",
        "                      f'Stopped Training at epoch {epoch}\\n'\n",
        "                      f'Best epoch: {epoch - patience}')\n",
        "                break\n",
        "\n",
        "    return losses, train_accuracies, dev_accuracies"
      ],
      "execution_count": 13,
      "outputs": []
    },
    {
      "cell_type": "markdown",
      "metadata": {
        "id": "Xn36fyCXRZrV"
      },
      "source": [
        "### Plotting the accuracies\n",
        "Using the return values of `train`, we can use `plot_accuracies` to create a plot of our performance on the train and dev sets during training."
      ]
    },
    {
      "cell_type": "code",
      "metadata": {
        "id": "zGBdUpLOSaKr"
      },
      "source": [
        "!mkdir -p /content/figures\n",
        "FIGURES_DIR = os.path.join(ROOT_DIR, 'figures')\n",
        "\n",
        "def plot_accuracies(train_accs, dev_accs, model_name):\n",
        "\n",
        "    plt.clf()\n",
        "    plt.title(model_name)\n",
        "    plt.xlabel('epoch')\n",
        "    plt.ylabel('accuracy')\n",
        "\n",
        "    plt.plot(train_accs, label='train')\n",
        "    plt.plot(dev_accs, label='dev')\n",
        "\n",
        "    plt.xticks(range(len(train_accs)), range(1, len(train_accs) + 1))\n",
        "    plt.yticks(np.around(np.linspace(0.0, 1.0, num=11), decimals=1))\n",
        "\n",
        "    plt.legend()\n",
        "    plt.grid(True)\n",
        "    plt.savefig(os.path.join(FIGURES_DIR, f'{model_name}.png'))\n",
        "\n",
        "    plt.show()"
      ],
      "execution_count": 14,
      "outputs": []
    },
    {
      "cell_type": "markdown",
      "metadata": {
        "id": "7B7xG0KQOC_H"
      },
      "source": [
        "## Evaluation\n",
        "\n",
        "When evaluating, we perform a procedure similar to training, with the following differences:  \n",
        "* We do not perform backpropagation or compute gradients.\n",
        "* At each timestep of the decoder, the input is determined by the `if evaluation_mode:` clause of the `forward` method in the previous timestep (recall Question 1.2). In class, we saw using the most probable token (argmax) from the output of the previous timestep as an input of the current timestep.\n",
        "* The outputs of the decoder, containing indices of the predicted tokens, are transformed into strings to create the predicted query string.\n",
        "\n",
        "Our evaluation metric is \"exact match\": a prediction is correct only if it is identical to the target query string.\n",
        "\n",
        "Until question 3, you can ignore the `if dec.uses_copying:` condition and assume it is always false. You will implement this part in question 3.3."
      ]
    },
    {
      "cell_type": "code",
      "metadata": {
        "id": "hGU2H__DOFvR"
      },
      "source": [
        "def evaluate(sentences, enc, dec, print_sentences=True):\n",
        "    total = 0\n",
        "    correct = 0\n",
        "\n",
        "    with torch.no_grad():\n",
        "        for pair in sentences:\n",
        "            input_sentence, target_sentence = pair\n",
        "            input_tensor = enc.vocab.sentence_to_tensor(input_sentence)\n",
        "            target_tensor = dec.vocab.sentence_to_tensor(target_sentence)\n",
        "\n",
        "            encoder_hidden_first = enc.init_hidden()\n",
        "\n",
        "            encoder_outputs, encoder_h_m = enc(input_tensor, encoder_hidden_first)\n",
        "\n",
        "            decoder_hidden = encoder_h_m\n",
        "\n",
        "            decoder_outputs = dec(target_tensor, decoder_hidden,\n",
        "                                  enc_outputs=encoder_outputs, enc_input=input_tensor,\n",
        "                                  evaluation_mode=True)\n",
        "            decoded_indices = torch.argmax(decoder_outputs, dim=1)\n",
        "\n",
        "            if dec.uses_copying:\n",
        "                ### YOUR CODE HERE\n",
        "                raise NotImplementedError\n",
        "                ### --------------\n",
        "\n",
        "            else:\n",
        "                decoded_tokens = [dec.vocab.i2t[idx.item()] for idx in decoded_indices]\n",
        "\n",
        "            decoded_sentence = ' '.join(decoded_tokens[:-1])  # ignore the EOS token\n",
        "\n",
        "            if decoded_sentence == target_sentence:\n",
        "                correct += 1\n",
        "            total += 1\n",
        "\n",
        "            if print_sentences:\n",
        "                print(f'input:    {input_sentence}')\n",
        "                print(f'expected: {target_sentence}')\n",
        "                print(f'result:   {decoded_sentence}')\n",
        "\n",
        "    accuracy = correct / total\n",
        "    return accuracy"
      ],
      "execution_count": 15,
      "outputs": []
    },
    {
      "cell_type": "markdown",
      "metadata": {
        "id": "o2NexHdXSoyH"
      },
      "source": [
        "### Testing Question 1\n",
        "To test your implementation of the simple model, you can run the following two cells. **Make sure to use the GPU and not the CPU: `Runtime`->`Change runtime type`->`Hardware accelerator`->`GPU`**.  \n",
        "\n",
        "Note that we expect a dev accuracy of at least 30 sometime until epoch 40 (could be a lot earlier). Your code will be run with several initial seeds, and therefore the 30 dev accuracy is expected on average.  \n",
        "Use the `nn.CrossEntropyLoss` criterion.\n",
        "\n",
        "To compare implementations during debugging, you can use the `set_random_seeds()` function.\n",
        "\n",
        "**Add the output figure, `ROOT/figures/simple_decoder.png`, to your written solution pdf file!** "
      ]
    },
    {
      "cell_type": "code",
      "metadata": {
        "id": "j2zy_W_qVCR0"
      },
      "source": [
        "# general settings, to be used with all the models\n",
        "enc_input_size = 256\n",
        "enc_hidden_size = 256\n",
        "\n",
        "dec_input_size = 256\n",
        "dec_hidden_size = 256\n",
        "\n",
        "n_epochs = 40"
      ],
      "execution_count": 16,
      "outputs": []
    },
    {
      "cell_type": "code",
      "metadata": {
        "id": "J473umolVHVE",
        "colab": {
          "base_uri": "https://localhost:8080/",
          "height": 1000
        },
        "outputId": "bb165191-e902-4651-a130-d7452a549198"
      },
      "source": [
        "# print('--- Training Simple Model ---')\n",
        "enc1 = EncoderRNN(enc_input_size, enc_hidden_size, vocab_natural).to(device)\n",
        "dec1 = DecoderSimple(dec_input_size, dec_hidden_size, vocab_logical).to(device)\n",
        "criterion1 = nn.CrossEntropyLoss()\n",
        "\n",
        "losses1, train_accs1, dev_accs1 = train(n_epochs, train_sentences, dev_sentences,\n",
        "                                        enc1, dec1, criterion1)\n",
        "plot_accuracies(train_accs1, dev_accs1, 'simple_decoder')"
      ],
      "execution_count": 17,
      "outputs": [
        {
          "output_type": "stream",
          "text": [
            "Epoch #1:\n",
            "Loss: 0.0574\n",
            "Train accuracy: 0.000\n",
            "Dev accuracy: 0.000\n",
            "Time elapsed (remaining): 0m 15s (10m 3s)\n",
            "Epoch #2:\n",
            "Loss: 0.0382\n",
            "Train accuracy: 0.000\n",
            "Dev accuracy: 0.000\n",
            "Time elapsed (remaining): 0m 31s (9m 52s)\n",
            "Epoch #3:\n",
            "Loss: 0.0295\n",
            "Train accuracy: 0.014\n",
            "Dev accuracy: 0.000\n",
            "Time elapsed (remaining): 0m 46s (9m 37s)\n",
            "Epoch #4:\n",
            "Loss: 0.0238\n",
            "Train accuracy: 0.054\n",
            "Dev accuracy: 0.010\n",
            "Time elapsed (remaining): 1m 2s (9m 21s)\n",
            "Epoch #5:\n",
            "Loss: 0.0210\n",
            "Train accuracy: 0.054\n",
            "Dev accuracy: 0.030\n",
            "Time elapsed (remaining): 1m 17s (9m 4s)\n",
            "Epoch #6:\n",
            "Loss: 0.0184\n",
            "Train accuracy: 0.102\n",
            "Dev accuracy: 0.070\n",
            "Time elapsed (remaining): 1m 33s (8m 49s)\n",
            "Epoch #7:\n",
            "Loss: 0.0167\n",
            "Train accuracy: 0.152\n",
            "Dev accuracy: 0.080\n",
            "Time elapsed (remaining): 1m 48s (8m 32s)\n",
            "Epoch #8:\n",
            "Loss: 0.0156\n",
            "Train accuracy: 0.198\n",
            "Dev accuracy: 0.140\n",
            "Time elapsed (remaining): 2m 4s (8m 17s)\n",
            "Epoch #9:\n",
            "Loss: 0.0127\n",
            "Train accuracy: 0.216\n",
            "Dev accuracy: 0.140\n",
            "Time elapsed (remaining): 2m 19s (8m 1s)\n",
            "Epoch #10:\n",
            "Loss: 0.0171\n",
            "Train accuracy: 0.198\n",
            "Dev accuracy: 0.130\n",
            "Time elapsed (remaining): 2m 35s (7m 46s)\n",
            "Epoch #11:\n",
            "Loss: 0.0163\n",
            "Train accuracy: 0.230\n",
            "Dev accuracy: 0.130\n",
            "Time elapsed (remaining): 2m 50s (7m 30s)\n",
            "Epoch #12:\n",
            "Loss: 0.0165\n",
            "Train accuracy: 0.272\n",
            "Dev accuracy: 0.120\n",
            "Time elapsed (remaining): 3m 6s (7m 14s)\n",
            "Epoch #13:\n",
            "Loss: 0.0151\n",
            "Train accuracy: 0.312\n",
            "Dev accuracy: 0.140\n",
            "Time elapsed (remaining): 3m 22s (6m 59s)\n",
            "Epoch #14:\n",
            "Loss: 0.0122\n",
            "Train accuracy: 0.382\n",
            "Dev accuracy: 0.160\n",
            "Time elapsed (remaining): 3m 37s (6m 44s)\n",
            "Epoch #15:\n",
            "Loss: 0.0127\n",
            "Train accuracy: 0.360\n",
            "Dev accuracy: 0.200\n",
            "Time elapsed (remaining): 3m 53s (6m 28s)\n",
            "Epoch #16:\n",
            "Loss: 0.0114\n",
            "Train accuracy: 0.414\n",
            "Dev accuracy: 0.220\n",
            "Time elapsed (remaining): 4m 8s (6m 13s)\n",
            "Epoch #17:\n",
            "Loss: 0.0099\n",
            "Train accuracy: 0.474\n",
            "Dev accuracy: 0.210\n",
            "Time elapsed (remaining): 4m 24s (5m 57s)\n",
            "Epoch #18:\n",
            "Loss: 0.0099\n",
            "Train accuracy: 0.502\n",
            "Dev accuracy: 0.240\n",
            "Time elapsed (remaining): 4m 40s (5m 42s)\n",
            "Epoch #19:\n",
            "Loss: 0.0079\n",
            "Train accuracy: 0.522\n",
            "Dev accuracy: 0.260\n",
            "Time elapsed (remaining): 4m 55s (5m 26s)\n",
            "Epoch #20:\n",
            "Loss: 0.0095\n",
            "Train accuracy: 0.502\n",
            "Dev accuracy: 0.230\n",
            "Time elapsed (remaining): 5m 11s (5m 11s)\n",
            "Epoch #21:\n",
            "Loss: 0.0082\n",
            "Train accuracy: 0.560\n",
            "Dev accuracy: 0.260\n",
            "Time elapsed (remaining): 5m 26s (4m 55s)\n",
            "Epoch #22:\n",
            "Loss: 0.0080\n",
            "Train accuracy: 0.608\n",
            "Dev accuracy: 0.280\n",
            "Time elapsed (remaining): 5m 42s (4m 40s)\n",
            "Epoch #23:\n",
            "Loss: 0.0112\n",
            "Train accuracy: 0.522\n",
            "Dev accuracy: 0.240\n",
            "Time elapsed (remaining): 5m 58s (4m 25s)\n",
            "Epoch #24:\n",
            "Loss: 0.0103\n",
            "Train accuracy: 0.586\n",
            "Dev accuracy: 0.230\n",
            "Time elapsed (remaining): 6m 14s (4m 9s)\n",
            "Epoch #25:\n",
            "Loss: 0.0065\n",
            "Train accuracy: 0.660\n",
            "Dev accuracy: 0.290\n",
            "Time elapsed (remaining): 6m 29s (3m 53s)\n",
            "Epoch #26:\n",
            "Loss: 0.0053\n",
            "Train accuracy: 0.668\n",
            "Dev accuracy: 0.320\n",
            "Time elapsed (remaining): 6m 45s (3m 38s)\n",
            "Epoch #27:\n",
            "Loss: 0.0196\n",
            "Train accuracy: 0.458\n",
            "Dev accuracy: 0.270\n",
            "Time elapsed (remaining): 7m 1s (3m 22s)\n",
            "Epoch #28:\n",
            "Loss: 0.0082\n",
            "Train accuracy: 0.666\n",
            "Dev accuracy: 0.310\n",
            "Time elapsed (remaining): 7m 16s (3m 7s)\n",
            "Epoch #29:\n",
            "Loss: 0.0069\n",
            "Train accuracy: 0.712\n",
            "Dev accuracy: 0.290\n",
            "Time elapsed (remaining): 7m 32s (2m 51s)\n",
            "Epoch #30:\n",
            "Loss: 0.0062\n",
            "Train accuracy: 0.678\n",
            "Dev accuracy: 0.280\n",
            "Time elapsed (remaining): 7m 47s (2m 35s)\n",
            "Epoch #31:\n",
            "Loss: 0.0062\n",
            "Train accuracy: 0.690\n",
            "Dev accuracy: 0.280\n",
            "Time elapsed (remaining): 8m 3s (2m 20s)\n",
            "Epoch #32:\n",
            "Loss: 0.0053\n",
            "Train accuracy: 0.684\n",
            "Dev accuracy: 0.310\n",
            "Time elapsed (remaining): 8m 19s (2m 4s)\n",
            "Epoch #33:\n",
            "Loss: 0.0043\n",
            "Train accuracy: 0.748\n",
            "Dev accuracy: 0.350\n",
            "Time elapsed (remaining): 8m 34s (1m 49s)\n",
            "Epoch #34:\n",
            "Loss: 0.0049\n",
            "Train accuracy: 0.706\n",
            "Dev accuracy: 0.310\n",
            "Time elapsed (remaining): 8m 50s (1m 33s)\n",
            "Epoch #35:\n",
            "Loss: 0.0054\n",
            "Train accuracy: 0.726\n",
            "Dev accuracy: 0.350\n",
            "Time elapsed (remaining): 9m 5s (1m 17s)\n",
            "Epoch #36:\n",
            "Loss: 0.0079\n",
            "Train accuracy: 0.512\n",
            "Dev accuracy: 0.200\n",
            "Time elapsed (remaining): 9m 21s (1m 2s)\n",
            "Epoch #37:\n",
            "Loss: 0.0072\n",
            "Train accuracy: 0.666\n",
            "Dev accuracy: 0.290\n",
            "Time elapsed (remaining): 9m 37s (0m 46s)\n",
            "Epoch #38:\n",
            "Loss: 0.0048\n",
            "Train accuracy: 0.724\n",
            "Dev accuracy: 0.320\n",
            "Time elapsed (remaining): 9m 52s (0m 31s)\n",
            "Epoch #39:\n",
            "Loss: 0.0044\n",
            "Train accuracy: 0.712\n",
            "Dev accuracy: 0.310\n",
            "Time elapsed (remaining): 10m 8s (0m 15s)\n",
            "Epoch #40:\n",
            "Loss: 0.0060\n",
            "Train accuracy: 0.690\n",
            "Dev accuracy: 0.310\n",
            "Time elapsed (remaining): 10m 24s (0m 0s)\n"
          ],
          "name": "stdout"
        },
        {
          "output_type": "display_data",
          "data": {
            "image/png": "[encoded data removed]",
            "text/plain": [
              "<Figure size 432x288 with 1 Axes>"
            ]
          },
          "metadata": {
            "tags": [],
            "needs_background": "light"
          }
        }
      ]
    },
    {
      "cell_type": "markdown",
      "metadata": {
        "id": "Exq6p6XtXJvH"
      },
      "source": [
        "## Improving the Simple Model\n",
        "\n",
        "We can improve this simple model in various ways, many of them are very simple:  \n",
        "\n",
        "* Using a bidirectional GRU in the encoder instead of a unidirectional one.\n",
        "* Using stack RNNs.\n",
        "* Using pretrained embeddings, such as GloVe, Instead of our randomly initialized embeddings.\n",
        "* Using [dropout](https://machinelearningmastery.com/dropout-for-regularizing-deep-neural-networks/). It is especially beneficial with small datasets, like ours. \n",
        "* Decoding with beam search.\n",
        "* Larger batch size and better tokenization, as we already mentioned.\n",
        "\n",
        "In this assignment, we won't use any of those. Instead, we will implement an attention mechanism as we saw in class."
      ]
    },
    {
      "cell_type": "markdown",
      "metadata": {
        "id": "v4ORq7MKaOuq"
      },
      "source": [
        "## Attention Seq2seq Model\n",
        "In this part we will introduce attention to our model, and implement a model like the one we saw in class. In this v2.0 model we will use the same encoder, so we'll just implement an improved decoder."
      ]
    },
    {
      "cell_type": "markdown",
      "metadata": {
        "id": "ZBvVh5AhbdcK"
      },
      "source": [
        "### Question 2\n",
        "Implement the `forward` method of `DecoderAttention`. You can copy parts of your code from the `forward` method of `DecoderSimple`.\n",
        " Note that there is no single canonical implementation of attention in seq2seq. You can take inspiration from the class slides, from Jay Alammar, or from any source of your choosing. But you have to utilize the encoder outputs at each timestep of the decoder.\n",
        " \n",
        "Don't forget to address the `evaluation_mode` parameter, as the input to `GRUCell` could depend on whether we are training or evaluating. It is your choice if and how to use teacher forcing during training, but at least some usage of teacher forcing is highly recommended."
      ]
    },
    {
      "cell_type": "code",
      "metadata": {
        "id": "ceTj8ATUcnb6"
      },
      "source": [
        "class DecoderAttention(DecoderSimple):\n",
        "    def __init__(self, input_size, hidden_size, vocab, enc_hidden_size, **kwargs):\n",
        "        super().__init__(input_size, hidden_size, vocab, **kwargs)\n",
        "\n",
        "        # for attention\n",
        "        self.enc_hidden_size = enc_hidden_size\n",
        "        self.W_a = nn.Linear(self.enc_hidden_size, self.hidden_size)\n",
        "\n",
        "        # for output\n",
        "        self.W_s = nn.Linear(self.hidden_size + self.enc_hidden_size, self.output_size)\n",
        "\n",
        "\n",
        "    def forward(self, targets, h, enc_outputs, evaluation_mode=False, epoch=0, **kwargs):\n",
        "\n",
        "        ### YOUR CODE HERE\n",
        "        h_0 = self.W_p(h).view(1, -1)\n",
        "\n",
        "        if not evaluation_mode:\n",
        "          embeddings = self.embedding(targets)\n",
        "\n",
        "        enc_transformed = self.W_a(enc_outputs)\n",
        "\n",
        "        outputs_list = []\n",
        "        next_index = -1\n",
        "        # have to iterate through calls to gru_cell (unlike nn.GRU)\n",
        "        for idx in range(targets.shape[0]):\n",
        "\n",
        "          # when training, use teacher forcing with X% probability for K epochs\n",
        "          tf_prob = 0 if epoch == 0 else 0.2\n",
        "          tf_epochs = 10\n",
        "          use_teacher_forcing = (\n",
        "              (not evaluation_mode)\n",
        "              and epoch < tf_epochs\n",
        "              and (np.random.rand() < tf_prob)\n",
        "          )\n",
        "          \n",
        "          if len(outputs_list) == 0:\n",
        "            # always start with SOS\n",
        "            SOS_index_tensor = torch.tensor(SOS_IDX, device=device)\n",
        "            current_input = self.embedding(SOS_index_tensor[None, None])[0]\n",
        "          elif use_teacher_forcing:\n",
        "            current_input = embeddings[idx - 1]\n",
        "          else:\n",
        "            current_input = self.embedding(next_index[None])\n",
        "          \n",
        "          h_0 = self.gru_cell(current_input, h_0)\n",
        "\n",
        "          attn_logits = torch.matmul(enc_transformed, h_0[0])\n",
        "          attn_weights = torch.nn.Softmax(dim=0)(attn_logits)\n",
        "          context_vector = torch.matmul(\n",
        "              attn_weights.squeeze(),\n",
        "              enc_outputs.squeeze()\n",
        "          )[None]\n",
        "          context_applied = torch.cat((context_vector, h_0)).view(1, 1, -1)\n",
        "          \n",
        "          current_output = self.W_s(context_applied)[0]\n",
        "          \n",
        "          outputs_list.append(current_output)\n",
        "          # greedy decoding:\n",
        "          next_index = torch.argmax(outputs_list[-1][0])\n",
        "\n",
        "        outputs = torch.cat(outputs_list)\n",
        "\n",
        "        ### --------------\n",
        "        return outputs"
      ],
      "execution_count": 18,
      "outputs": []
    },
    {
      "cell_type": "markdown",
      "metadata": {
        "id": "yyYrNgOLv0LO"
      },
      "source": [
        "### Testing Question 2\n",
        "To test your implementation of the attention model, you can run the following cell. Note that we expect a dev accuracy of at least 40 sometime until epoch 40 (could be a lot earlier). Your code will be run with several initial seeds, and therefore the 40 dev accuracy is expected on average.  \n",
        "Use the `nn.CrossEntropyLoss` criterion.\n",
        "\n",
        "To compare implementations during debugging, you can use the `set_random_seeds()` function.\n",
        "\n",
        "**Add the output figure, `ROOT/figures/attention_decoder.png`, to your written solution pdf file!** "
      ]
    },
    {
      "cell_type": "code",
      "metadata": {
        "id": "4Bf78m56wX3F",
        "colab": {
          "base_uri": "https://localhost:8080/",
          "height": 1000
        },
        "outputId": "dc39fed3-896d-40b1-bfca-d245c48f44da"
      },
      "source": [
        "print('--- Training Attention Model ---')\n",
        "enc2 = EncoderRNN(enc_input_size, enc_hidden_size, vocab_natural).to(device)\n",
        "dec2 = DecoderAttention(dec_input_size, dec_hidden_size, vocab_logical, enc_hidden_size).to(device)\n",
        "criterion2 = nn.CrossEntropyLoss()\n",
        "\n",
        "losses2, train_accs2, dev_accs2 = train(n_epochs, train_sentences, dev_sentences,\n",
        "                                        enc2, dec2, criterion2)\n",
        "plot_accuracies(train_accs2, dev_accs2, 'attention_decoder')"
      ],
      "execution_count": 19,
      "outputs": [
        {
          "output_type": "stream",
          "text": [
            "--- Training Attention Model ---\n",
            "Epoch #1:\n",
            "Loss: 0.0564\n",
            "Train accuracy: 0.024\n",
            "Dev accuracy: 0.000\n",
            "Time elapsed (remaining): 0m 24s (16m 13s)\n",
            "Epoch #2:\n",
            "Loss: 0.0330\n",
            "Train accuracy: 0.146\n",
            "Dev accuracy: 0.040\n",
            "Time elapsed (remaining): 0m 50s (15m 50s)\n",
            "Epoch #3:\n",
            "Loss: 0.0248\n",
            "Train accuracy: 0.238\n",
            "Dev accuracy: 0.100\n",
            "Time elapsed (remaining): 1m 14s (15m 24s)\n",
            "Epoch #4:\n",
            "Loss: 0.0188\n",
            "Train accuracy: 0.406\n",
            "Dev accuracy: 0.210\n",
            "Time elapsed (remaining): 1m 39s (14m 59s)\n",
            "Epoch #5:\n",
            "Loss: 0.0141\n",
            "Train accuracy: 0.438\n",
            "Dev accuracy: 0.240\n",
            "Time elapsed (remaining): 2m 4s (14m 32s)\n",
            "Epoch #6:\n",
            "Loss: 0.0142\n",
            "Train accuracy: 0.452\n",
            "Dev accuracy: 0.190\n",
            "Time elapsed (remaining): 2m 29s (14m 7s)\n",
            "Epoch #7:\n",
            "Loss: 0.0123\n",
            "Train accuracy: 0.530\n",
            "Dev accuracy: 0.280\n",
            "Time elapsed (remaining): 2m 54s (13m 41s)\n",
            "Epoch #8:\n",
            "Loss: 0.0089\n",
            "Train accuracy: 0.536\n",
            "Dev accuracy: 0.320\n",
            "Time elapsed (remaining): 3m 19s (13m 16s)\n",
            "Epoch #9:\n",
            "Loss: 0.0090\n",
            "Train accuracy: 0.464\n",
            "Dev accuracy: 0.250\n",
            "Time elapsed (remaining): 3m 44s (12m 51s)\n",
            "Epoch #10:\n",
            "Loss: 0.0146\n",
            "Train accuracy: 0.356\n",
            "Dev accuracy: 0.210\n",
            "Time elapsed (remaining): 4m 9s (12m 27s)\n",
            "Epoch #11:\n",
            "Loss: 0.0156\n",
            "Train accuracy: 0.508\n",
            "Dev accuracy: 0.250\n",
            "Time elapsed (remaining): 4m 34s (12m 2s)\n",
            "Epoch #12:\n",
            "Loss: 0.0136\n",
            "Train accuracy: 0.496\n",
            "Dev accuracy: 0.250\n",
            "Time elapsed (remaining): 4m 58s (11m 37s)\n",
            "Epoch #13:\n",
            "Loss: 0.0144\n",
            "Train accuracy: 0.456\n",
            "Dev accuracy: 0.220\n",
            "Time elapsed (remaining): 5m 23s (11m 12s)\n",
            "Epoch #14:\n",
            "Loss: 0.0123\n",
            "Train accuracy: 0.504\n",
            "Dev accuracy: 0.280\n",
            "Time elapsed (remaining): 5m 49s (10m 48s)\n",
            "Epoch #15:\n",
            "Loss: 0.0112\n",
            "Train accuracy: 0.492\n",
            "Dev accuracy: 0.290\n",
            "Time elapsed (remaining): 6m 14s (10m 23s)\n",
            "Epoch #16:\n",
            "Loss: 0.0135\n",
            "Train accuracy: 0.356\n",
            "Dev accuracy: 0.230\n",
            "Time elapsed (remaining): 6m 38s (9m 58s)\n",
            "Epoch #17:\n",
            "Loss: 0.0118\n",
            "Train accuracy: 0.618\n",
            "Dev accuracy: 0.360\n",
            "Time elapsed (remaining): 7m 3s (9m 33s)\n",
            "Epoch #18:\n",
            "Loss: 0.0105\n",
            "Train accuracy: 0.610\n",
            "Dev accuracy: 0.330\n",
            "Time elapsed (remaining): 7m 28s (9m 8s)\n",
            "Epoch #19:\n",
            "Loss: 0.0071\n",
            "Train accuracy: 0.648\n",
            "Dev accuracy: 0.390\n",
            "Time elapsed (remaining): 7m 53s (8m 43s)\n",
            "Epoch #20:\n",
            "Loss: 0.0062\n",
            "Train accuracy: 0.662\n",
            "Dev accuracy: 0.340\n",
            "Time elapsed (remaining): 8m 18s (8m 18s)\n",
            "Epoch #21:\n",
            "Loss: 0.0072\n",
            "Train accuracy: 0.670\n",
            "Dev accuracy: 0.360\n",
            "Time elapsed (remaining): 8m 42s (7m 53s)\n",
            "Epoch #22:\n",
            "Loss: 0.0085\n",
            "Train accuracy: 0.628\n",
            "Dev accuracy: 0.330\n",
            "Time elapsed (remaining): 9m 7s (7m 28s)\n",
            "Epoch #23:\n",
            "Loss: 0.0089\n",
            "Train accuracy: 0.624\n",
            "Dev accuracy: 0.340\n",
            "Time elapsed (remaining): 9m 32s (7m 3s)\n",
            "Epoch #24:\n",
            "Loss: 0.0085\n",
            "Train accuracy: 0.670\n",
            "Dev accuracy: 0.430\n",
            "Time elapsed (remaining): 9m 57s (6m 38s)\n",
            "Epoch #25:\n",
            "Loss: 0.0082\n",
            "Train accuracy: 0.612\n",
            "Dev accuracy: 0.350\n",
            "Time elapsed (remaining): 10m 22s (6m 13s)\n",
            "Epoch #26:\n",
            "Loss: 0.0068\n",
            "Train accuracy: 0.682\n",
            "Dev accuracy: 0.410\n",
            "Time elapsed (remaining): 10m 47s (5m 48s)\n",
            "Epoch #27:\n",
            "Loss: 0.0057\n",
            "Train accuracy: 0.704\n",
            "Dev accuracy: 0.390\n",
            "Time elapsed (remaining): 11m 12s (5m 23s)\n",
            "Epoch #28:\n",
            "Loss: 0.0068\n",
            "Train accuracy: 0.638\n",
            "Dev accuracy: 0.360\n",
            "Time elapsed (remaining): 11m 37s (4m 59s)\n",
            "Epoch #29:\n",
            "Loss: 0.0054\n",
            "Train accuracy: 0.716\n",
            "Dev accuracy: 0.400\n",
            "Time elapsed (remaining): 12m 2s (4m 34s)\n",
            "Epoch #30:\n",
            "Loss: 0.0056\n",
            "Train accuracy: 0.664\n",
            "Dev accuracy: 0.440\n",
            "Time elapsed (remaining): 12m 27s (4m 9s)\n",
            "Epoch #31:\n",
            "Loss: 0.0170\n",
            "Train accuracy: 0.354\n",
            "Dev accuracy: 0.200\n",
            "Time elapsed (remaining): 12m 52s (3m 44s)\n",
            "Epoch #32:\n",
            "Loss: 0.0199\n",
            "Train accuracy: 0.552\n",
            "Dev accuracy: 0.300\n",
            "Time elapsed (remaining): 13m 17s (3m 19s)\n",
            "Epoch #33:\n",
            "Loss: 0.0084\n",
            "Train accuracy: 0.688\n",
            "Dev accuracy: 0.390\n",
            "Time elapsed (remaining): 13m 42s (2m 54s)\n",
            "Epoch #34:\n",
            "Loss: 0.0050\n",
            "Train accuracy: 0.734\n",
            "Dev accuracy: 0.420\n",
            "Time elapsed (remaining): 14m 6s (2m 29s)\n",
            "Epoch #35:\n",
            "Loss: 0.0046\n",
            "Train accuracy: 0.772\n",
            "Dev accuracy: 0.420\n",
            "Time elapsed (remaining): 14m 31s (2m 4s)\n",
            "Epoch #36:\n",
            "Loss: 0.0045\n",
            "Train accuracy: 0.762\n",
            "Dev accuracy: 0.390\n",
            "Time elapsed (remaining): 14m 56s (1m 39s)\n",
            "Epoch #37:\n",
            "Loss: 0.0087\n",
            "Train accuracy: 0.198\n",
            "Dev accuracy: 0.100\n",
            "Time elapsed (remaining): 15m 21s (1m 14s)\n",
            "Epoch #38:\n",
            "Loss: 0.0160\n",
            "Train accuracy: 0.594\n",
            "Dev accuracy: 0.290\n",
            "Time elapsed (remaining): 15m 46s (0m 49s)\n",
            "Epoch #39:\n",
            "Loss: 0.0084\n",
            "Train accuracy: 0.606\n",
            "Dev accuracy: 0.310\n",
            "Time elapsed (remaining): 16m 11s (0m 24s)\n",
            "Epoch #40:\n",
            "Loss: 0.0059\n",
            "Train accuracy: 0.754\n",
            "Dev accuracy: 0.380\n",
            "Time elapsed (remaining): 16m 36s (0m 0s)\n"
          ],
          "name": "stdout"
        },
        {
          "output_type": "display_data",
          "data": {
            "image/png": "[encoded data removed]",
            "text/plain": [
              "<Figure size 432x288 with 1 Axes>"
            ]
          },
          "metadata": {
            "tags": [],
            "needs_background": "light"
          }
        }
      ]
    },
    {
      "cell_type": "markdown",
      "metadata": {
        "id": "iYOx52MBxLAu"
      },
      "source": [
        "## Attention Seq2seq Model with Copying\n",
        "As we saw in class, we can still improve upon the attention model. This can be done by adding a 'copying' mechanism, which could be viewed as a variant on pointer networks ([Vinyals et al, 2015](https://arxiv.org/abs/1506.03134)). Before implementing this model, we suggest that you review slides [52-61](https://www.cs.tau.ac.il/~joberant/teaching/nlp_fall_2019_2020/files/08_seq2seq.pdf#page=52) from the seq2seq lecture slides.\n",
        "\n",
        "As with the regular attention model, we will use the same encoder, and improve upon the decoder."
      ]
    },
    {
      "cell_type": "markdown",
      "metadata": {
        "id": "-YQTmTP_0luQ"
      },
      "source": [
        "### Question 3.1\n",
        "Implement the `forward` method of `DecoderAttentionWithCopying`. You can copy parts of your code from the `forward` method of `DecoderAttention`.\n",
        " As in the regular attention model and even more so, there is no single canonical implementation of attention with copying in seq2seq. You can take inspiration from the class slides, from section 3.2 of Data Recombination for Neural Semantic Parsing [(Jia & Liang, 2016)](https://stanford.edu/~robinjia/pdf/jia2016recombination.pdf), or from any source of your choosing.\n",
        " \n",
        "Unlike the previous two decoders, here you can also add define additional weights/parameters in the `__init__`, in case you find it beneficial to your model.\n",
        "\n",
        "In addition, feel free to use `get_index_from_parallel_index` from your vocab object. You can assume the call `vocab_logical.set_parallel_vocab(vocab_natural)` was already made.\n",
        "\n",
        "\n",
        "Don't forget to address the `evaluation_mode` parameter, as the input to `GRUCell` could depend on whether we are training or evaluating. It is your choice if and how to use teacher forcing during training, but at least some usage of teacher forcing is highly recommended."
      ]
    },
    {
      "cell_type": "code",
      "metadata": {
        "id": "JoSaTgWF4etu"
      },
      "source": [
        "class DecoderAttentionWithCopying(DecoderAttention):\n",
        "    def __init__(self, input_size, hidden_size, vocab, enc_hidden_size, **kwargs):\n",
        "        super().__init__(input_size, hidden_size, vocab, enc_hidden_size, **kwargs)\n",
        "\n",
        "        self.uses_copying = True\n",
        "\n",
        "        # PLACE TO ADD ADDITIONAL WEIGHTS (optional)\n",
        "\n",
        "        # ------------------------------------------\n",
        "\n",
        "    def forward(self, targets, h, enc_outputs, enc_input, evaluation_mode=False):\n",
        "\n",
        "        ### YOUR CODE HERE\n",
        "        raise NotImplementedError\n",
        "        ### --------------\n",
        "        return outputs"
      ],
      "execution_count": 20,
      "outputs": []
    },
    {
      "cell_type": "markdown",
      "metadata": {
        "id": "JOTfWXDQ5Okd"
      },
      "source": [
        "### Question 3.2\n",
        "In addition to the new decoder, a change in `train_single_example` is also required, as now `criterion_target` should not be composed solely from `target_tensor`. Also, note that with `DecoderAttentionWithCopying` we use the [`BCEWithLogitsLoss`](https://pytorch.org/docs/stable/nn.html#bcewithlogitsloss) loss criterion (see later in notebook for details).\n",
        "\n",
        "Implement the `if dec.uses_copying:` clause of `train_single_example`.\n",
        "\n",
        "In general this part should help the loss function (`criterion`) understand what tokens from the input (natural sentence) are desirable for copying (in addition to the actual target token from the query string). This is done by defining `criterion_target` accordingly.\n",
        "\n"
      ]
    },
    {
      "cell_type": "markdown",
      "metadata": {
        "id": "O85tAjNx-Y8g"
      },
      "source": [
        "### Question 3.3\n",
        "\n",
        "Finally, we need add code in `evaluate`. Implement the `if dec.uses_copying:` clause of `evaluate`.\n",
        "\n",
        "This code should enable the model to:\n",
        "* Decode tokens from the input natural sentence (as well as from the query string, as was done until now).\n",
        "* Copy input tokens that do not exist in our vocabulary.\n",
        "\n",
        "This question is quite open ended, so feel free to experiment, as long as your code follows the two guidelines above.\n",
        "\n",
        "For simplicity, we added below a set of all the words that are entities (i.e worth considering copying) and occur in both the natural sentences and the the query strings. This set is based on the words from the training set and the dev set, as well as from the hidden test set.\n",
        "\n",
        "You may add additional functions/code to be used in the `if dec.uses_copying:` clause of `evaluate` if you wish.\n",
        "\n"
      ]
    },
    {
      "cell_type": "code",
      "metadata": {
        "id": "3IjgrryJFaaX"
      },
      "source": [
        "# in practice, entities are probably decduced by some pretrained NER model\n",
        "all_entities = {\n",
        "    'rochester', 'kentucky', 'potomac', 'georgia', 'boulder', 'missouri', 'mississippi',\n",
        "    'sacramento', 'island', 'mount', 'houston', 'guadalupe', 'baton', 'north', 'spokane', 'salem',\n",
        "    'alabama', 'utah', 'erie', 'scotts', 'death', 'springfield', 'idaho', 'ohio', 'francisco',\n",
        "    'valley', 'jose', 'rio', 'new', 'chicago', 'florida', 'diego', 'indiana', 'detroit', 'montana',\n",
        "    'seattle', 'south', 'wyoming', 'texas', 'alaska', 'dakota', 'orleans', 'minnesota', 'riverside',\n",
        "    'delaware', 'plano', 'pittsburgh', 'hampshire', 'california', 'flint', 'nevada', 'west',\n",
        "    'massachusetts', 'york', 'illinois', 'me', 'oregon', 'mckinley', 'tucson', 'chattahoochee',\n",
        "    'des', 'arizona', 'michigan', 'maine', 'maryland', 'rhode', 'kalamazoo', 'tennessee', 'hawaii',\n",
        "    'virginia', 'salt', 'atlanta', 'austin', 'miami', 'antonio', 'carolina', 'san', 'durham',\n",
        "    'jersey', 'colorado', 'indianapolis', 'dover', 'vermont', 'albany', 'rouge', 'kansas', 'usa',\n",
        "    'grande', 'red', 'pennsylvania', 'nebraska', 'wayne', 'washington', 'tempe', 'mexico',\n",
        "    'montgomery', 'platte', 'whitney', 'arkansas', 'fort', 'oklahoma', 'boston', 'dallas',\n",
        "    'portland', 'louisiana', 'wisconsin', 'minneapolis', 'denver', 'peak', 'moines', 'dc',\n",
        "    'columbus', 'iowa'\n",
        "}\n",
        "\n",
        "def is_entity(token):\n",
        "    return token in all_entities\n",
        "\n",
        "\n",
        "# PLACE TO ADD OPTIONAL ADDITIONAL CODE TO BE USED IN THE COPYING CLAUSE OF `evaluate`\n",
        "\n",
        "\n",
        "# ------------------------------------------------------------------------------------\n"
      ],
      "execution_count": 21,
      "outputs": []
    },
    {
      "cell_type": "markdown",
      "metadata": {
        "id": "CKhXuu5mFpo2"
      },
      "source": [
        "### Testing Question 3\n",
        "To test your implementation of the attention model with copying, you can run the following cell. Note that we expect a dev accuracy of at least 4 sometime until epoch 40 (could be a lot earlier), **as well as at least of couple of points better than the regular attention model**. Your code will be run with several initial seeds, and therefore the 40 dev accuracy and the slight improvement over the regular attention model are expected on average.  \n",
        "Use the `BCEWithLogitsLoss` criterion.\n",
        "\n",
        "To compare implementations during debugging, you can use the `set_random_seeds()` function.\n",
        "\n",
        "**Add the output figure, `ROOT/figures/attention_with_copying_decoder.png`, to your written solution pdf file!** "
      ]
    },
    {
      "cell_type": "code",
      "metadata": {
        "id": "H3XpCNNvGQqz",
        "colab": {
          "base_uri": "https://localhost:8080/",
          "height": 375
        },
        "outputId": "890c0f20-7c41-4bd7-bf50-9542a20b3862"
      },
      "source": [
        "print('--- Training Copying Model ---')\n",
        "set_random_seeds()\n",
        "vocab_logical.set_parallel_vocab(vocab_natural)\n",
        "enc3 = EncoderRNN(enc_input_size, enc_hidden_size, vocab_natural).to(device)\n",
        "dec3 = DecoderAttentionWithCopying(dec_input_size, dec_hidden_size, vocab_logical, enc_hidden_size).to(device)\n",
        "criterion3 = nn.BCEWithLogitsLoss()\n",
        "\n",
        "losses3, train_accs3, dev_accs3 = train(n_epochs, train_sentences, dev_sentences, enc3, dec3, criterion3)\n",
        "plot_accuracies(train_accs3, dev_accs3, 'attention_with_copying_decoder')\n"
      ],
      "execution_count": 22,
      "outputs": [
        {
          "output_type": "stream",
          "text": [
            "--- Training Copying Model ---\n"
          ],
          "name": "stdout"
        },
        {
          "output_type": "error",
          "ename": "TypeError",
          "evalue": "ignored",
          "traceback": [
            "\u001b[0;31m---------------------------------------------------------------------------\u001b[0m",
            "\u001b[0;31mTypeError\u001b[0m                                 Traceback (most recent call last)",
            "\u001b[0;32m<ipython-input-22-69da13433783>\u001b[0m in \u001b[0;36m<module>\u001b[0;34m()\u001b[0m\n\u001b[1;32m      6\u001b[0m \u001b[0mcriterion3\u001b[0m \u001b[0;34m=\u001b[0m \u001b[0mnn\u001b[0m\u001b[0;34m.\u001b[0m\u001b[0mBCEWithLogitsLoss\u001b[0m\u001b[0;34m(\u001b[0m\u001b[0;34m)\u001b[0m\u001b[0;34m\u001b[0m\u001b[0;34m\u001b[0m\u001b[0m\n\u001b[1;32m      7\u001b[0m \u001b[0;34m\u001b[0m\u001b[0m\n\u001b[0;32m----> 8\u001b[0;31m \u001b[0mlosses3\u001b[0m\u001b[0;34m,\u001b[0m \u001b[0mtrain_accs3\u001b[0m\u001b[0;34m,\u001b[0m \u001b[0mdev_accs3\u001b[0m \u001b[0;34m=\u001b[0m \u001b[0mtrain\u001b[0m\u001b[0;34m(\u001b[0m\u001b[0mn_epochs\u001b[0m\u001b[0;34m,\u001b[0m \u001b[0mtrain_sentences\u001b[0m\u001b[0;34m,\u001b[0m \u001b[0mdev_sentences\u001b[0m\u001b[0;34m,\u001b[0m \u001b[0menc3\u001b[0m\u001b[0;34m,\u001b[0m \u001b[0mdec3\u001b[0m\u001b[0;34m,\u001b[0m \u001b[0mcriterion3\u001b[0m\u001b[0;34m)\u001b[0m\u001b[0;34m\u001b[0m\u001b[0;34m\u001b[0m\u001b[0m\n\u001b[0m\u001b[1;32m      9\u001b[0m \u001b[0mplot_accuracies\u001b[0m\u001b[0;34m(\u001b[0m\u001b[0mtrain_accs3\u001b[0m\u001b[0;34m,\u001b[0m \u001b[0mdev_accs3\u001b[0m\u001b[0;34m,\u001b[0m \u001b[0;34m'attention_with_copying_decoder'\u001b[0m\u001b[0;34m)\u001b[0m\u001b[0;34m\u001b[0m\u001b[0;34m\u001b[0m\u001b[0m\n",
            "\u001b[0;32m<ipython-input-13-807e03a85849>\u001b[0m in \u001b[0;36mtrain\u001b[0;34m(n_epochs, train_set, dev_set, enc, dec, criterion, patience, save, print_sentences)\u001b[0m\n\u001b[1;32m     22\u001b[0m \u001b[0;34m\u001b[0m\u001b[0m\n\u001b[1;32m     23\u001b[0m             loss = train_single_example(input_tensor, target_tensor, enc, dec,\n\u001b[0;32m---> 24\u001b[0;31m                                         encoder_optimizer, decoder_optimizer, criterion, epoch=epoch)\n\u001b[0m\u001b[1;32m     25\u001b[0m             \u001b[0mepoch_loss\u001b[0m \u001b[0;34m+=\u001b[0m \u001b[0mloss\u001b[0m\u001b[0;34m\u001b[0m\u001b[0;34m\u001b[0m\u001b[0m\n\u001b[1;32m     26\u001b[0m \u001b[0;34m\u001b[0m\u001b[0m\n",
            "\u001b[0;32m<ipython-input-10-e9379ac34295>\u001b[0m in \u001b[0;36mtrain_single_example\u001b[0;34m(input_tensor, target_tensor, enc, dec, enc_optimizer, dec_optimizer, criterion, epoch)\u001b[0m\n\u001b[1;32m     14\u001b[0m \u001b[0;34m\u001b[0m\u001b[0m\n\u001b[1;32m     15\u001b[0m     decoder_outputs = dec(target_tensor, decoder_hidden, enc_input=input_tensor,\n\u001b[0;32m---> 16\u001b[0;31m                           enc_outputs=encoder_outputs, epoch=epoch)\n\u001b[0m\u001b[1;32m     17\u001b[0m \u001b[0;34m\u001b[0m\u001b[0m\n\u001b[1;32m     18\u001b[0m     \u001b[0;32mif\u001b[0m \u001b[0mdec\u001b[0m\u001b[0;34m.\u001b[0m\u001b[0muses_copying\u001b[0m\u001b[0;34m:\u001b[0m\u001b[0;34m\u001b[0m\u001b[0;34m\u001b[0m\u001b[0m\n",
            "\u001b[0;32m/usr/local/lib/python3.6/dist-packages/torch/nn/modules/module.py\u001b[0m in \u001b[0;36m_call_impl\u001b[0;34m(self, *input, **kwargs)\u001b[0m\n\u001b[1;32m    725\u001b[0m             \u001b[0mresult\u001b[0m \u001b[0;34m=\u001b[0m \u001b[0mself\u001b[0m\u001b[0;34m.\u001b[0m\u001b[0m_slow_forward\u001b[0m\u001b[0;34m(\u001b[0m\u001b[0;34m*\u001b[0m\u001b[0minput\u001b[0m\u001b[0;34m,\u001b[0m \u001b[0;34m**\u001b[0m\u001b[0mkwargs\u001b[0m\u001b[0;34m)\u001b[0m\u001b[0;34m\u001b[0m\u001b[0;34m\u001b[0m\u001b[0m\n\u001b[1;32m    726\u001b[0m         \u001b[0;32melse\u001b[0m\u001b[0;34m:\u001b[0m\u001b[0;34m\u001b[0m\u001b[0;34m\u001b[0m\u001b[0m\n\u001b[0;32m--> 727\u001b[0;31m             \u001b[0mresult\u001b[0m \u001b[0;34m=\u001b[0m \u001b[0mself\u001b[0m\u001b[0;34m.\u001b[0m\u001b[0mforward\u001b[0m\u001b[0;34m(\u001b[0m\u001b[0;34m*\u001b[0m\u001b[0minput\u001b[0m\u001b[0;34m,\u001b[0m \u001b[0;34m**\u001b[0m\u001b[0mkwargs\u001b[0m\u001b[0;34m)\u001b[0m\u001b[0;34m\u001b[0m\u001b[0;34m\u001b[0m\u001b[0m\n\u001b[0m\u001b[1;32m    728\u001b[0m         for hook in itertools.chain(\n\u001b[1;32m    729\u001b[0m                 \u001b[0m_global_forward_hooks\u001b[0m\u001b[0;34m.\u001b[0m\u001b[0mvalues\u001b[0m\u001b[0;34m(\u001b[0m\u001b[0;34m)\u001b[0m\u001b[0;34m,\u001b[0m\u001b[0;34m\u001b[0m\u001b[0;34m\u001b[0m\u001b[0m\n",
            "\u001b[0;31mTypeError\u001b[0m: forward() got an unexpected keyword argument 'epoch'"
          ]
        }
      ]
    },
    {
      "cell_type": "markdown",
      "metadata": {
        "id": "fxddxo_72LXX"
      },
      "source": [
        "## On Reaching State of the Art Results\n",
        "In Data Recombination for Neural Semantic Parsing [(Jia & Liang, 2016)](https://stanford.edu/~robinjia/pdf/jia2016recombination.pdf#page=7), the results were much better than our model - 85.0 (and even higher with some additional methods they introduced). A substantial part of this gap could be reduced by applying the rather simple suggestions from the [Improving the Simple Model](https://colab.research.google.com/drive/1LuVweHOfi3qQkipZHTki9cyI_TOcRQyQ#scrollTo=Exq6p6XtXJvH&line=2&uniqifier=1) cell. So when you are confident that your implementation is working, feel free to see how close you can get to these impressive results!\n"
      ]
    }
  ]
}